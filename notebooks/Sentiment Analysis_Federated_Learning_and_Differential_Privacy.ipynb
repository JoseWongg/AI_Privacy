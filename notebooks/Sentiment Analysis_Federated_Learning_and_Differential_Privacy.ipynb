{
 "cells": [
  {
   "cell_type": "markdown",
   "id": "18c7b3a9-15ed-4702-8147-861ae9def7ee",
   "metadata": {},
   "source": [
    "# SET UP ENVIRONMENT"
   ]
  },
  {
   "cell_type": "code",
   "execution_count": 1,
   "id": "ec86845b-3523-4ba6-be48-d076b62a3769",
   "metadata": {},
   "outputs": [],
   "source": [
    "# Uncomment the lines below to install the required packages if needed\n",
    "#Requires python 3.8\n",
    "\n",
    "# Install pandas for data manipulation\n",
    "#!conda install -y pandas==1.1.5\n",
    "\n",
    "# Install numpy for numerical computations\n",
    "#!conda install -y numpy=1.19.5\n",
    "\n",
    "# Install matplotlib for plotting\n",
    "#!conda install -y matplotlib==3.3.4\n",
    "\n",
    "# Install nltk for text preprocessing\n",
    "#!conda install -y nltk\n",
    "\n",
    "# Install emoji for handling emojis in text\n",
    "#!pip install emoji\n",
    "\n",
    "# Install TensorFlow for deep learning (including Keras)\n",
    "#!conda install -y tensorflow=2.3.0\n",
    "\n",
    "# Install scikit-learn for machine learning utilities\n",
    "#!conda install -y scikit-learn\n",
    "\n",
    "# Install gensim for Word2Vec embeddings\n",
    "#!conda install -y gensim\n",
    "\n",
    "# Install packaging for version checking\n",
    "#!pip install packaging\n",
    "\n",
    "# Install Tensorflow Federated Package\n",
    "#!pip install tensorflow-federated\n"
   ]
  },
  {
   "cell_type": "markdown",
   "id": "651dabb1-e537-4583-9a81-74feea219c7c",
   "metadata": {},
   "source": [
    "# CONSTANTS"
   ]
  },
  {
   "cell_type": "code",
   "execution_count": null,
   "id": "b391bad0-1124-4601-b01c-dcaad8239a7b",
   "metadata": {},
   "outputs": [],
   "source": [
    "no_reviews = None  # set to `None` to read all reviews\n",
    "max_words = 5000   # Size of the vocabulary - the most common words to be used as features\n",
    "embedding_size = 300  # Size of the embedding vectors\n",
    "prop_val = 0.2        # Proportion of data for the validation set\n",
    "prop_test = 0.2       # Proportion of data for the testing set\n",
    "no_epochs = 10        # Number of training cycles for the network\n",
    "# Path to the CSV file (Adjust as needed)\n",
    "data_path = r\"\""
   ]
  },
  {
   "cell_type": "markdown",
   "id": "2b9783d6-577a-43a5-968b-7723ca5c68c7",
   "metadata": {},
   "source": [
    "# IMPORTS"
   ]
  },
  {
   "cell_type": "code",
   "execution_count": 3,
   "id": "0bffcb78-08cd-4775-b3ce-3ad9c6a05d27",
   "metadata": {},
   "outputs": [
    {
     "name": "stderr",
     "output_type": "stream",
     "text": [
      "[nltk_data] Downloading package stopwords to\n",
      "[nltk_data]     C:\\Users\\jlwon\\AppData\\Roaming\\nltk_data...\n",
      "[nltk_data]   Package stopwords is already up-to-date!\n",
      "[nltk_data] Downloading package wordnet to\n",
      "[nltk_data]     C:\\Users\\jlwon\\AppData\\Roaming\\nltk_data...\n",
      "[nltk_data]   Package wordnet is already up-to-date!\n"
     ]
    }
   ],
   "source": [
    "import pandas as pd\n",
    "\n",
    "import numpy as np\n",
    "\n",
    "import matplotlib.pyplot as plt\n",
    "\n",
    "import math\n",
    "\n",
    "import re\n",
    "\n",
    "import nltk\n",
    "from nltk.corpus import stopwords\n",
    "from nltk.stem import WordNetLemmatizer\n",
    "import emoji\n",
    "# Ensures that NLTK resources are downloaded (first-time use only)\n",
    "nltk.download('stopwords')\n",
    "nltk.download('wordnet')\n",
    "\n",
    "import tensorflow as tf\n",
    "import tensorflow_federated as tff\n",
    "\n",
    "from tensorflow.keras.preprocessing.sequence import pad_sequences\n",
    "from tensorflow.keras.models import Sequential\n",
    "from tensorflow.keras.layers import Embedding, LSTM, Dense, Dropout\n",
    "from tensorflow.keras.preprocessing.text import Tokenizer\n",
    "from tensorflow.keras.utils import to_categorical\n",
    "from tensorflow_privacy.privacy.analysis import compute_dp_sgd_privacy\n",
    "\n",
    "import nest_asyncio\n",
    "\n",
    "from sklearn.metrics import f1_score, precision_score, recall_score, accuracy_score\n",
    "from sklearn.model_selection import train_test_split\n",
    "\n",
    "import gensim\n",
    "from gensim.models import KeyedVectors\n",
    "from gensim.parsing.preprocessing import remove_stopwords\n",
    "from gensim.utils import simple_preprocess\n",
    "#from gensim.models import Word2Vec\n",
    "\n",
    "from packaging import version\n",
    "# Check gensim version\n",
    "if version.parse(gensim.__version__) < version.parse(\"4.3.0\"):\n",
    "    print(\"Minimum Gensim version required: 4.3.0 Installed Gensim version is\", gensim.__version__)\n",
    "    print(\"You need to update Gensim using pip install -U gensim\")\n"
   ]
  },
  {
   "cell_type": "markdown",
   "id": "f124daea-3fe3-40e5-9bb6-6e4283f9ee66",
   "metadata": {},
   "source": [
    "# DATA LOADING AND PREPROCESSING"
   ]
  },
  {
   "cell_type": "code",
   "execution_count": 4,
   "id": "ee6e891c-a6c2-44c8-877a-b545001709c1",
   "metadata": {},
   "outputs": [],
   "source": [
    "# Function to read the dataset\n",
    "\n",
    "def read_data_from_csv(file_path, no_reviews=None):\n",
    "    # Read the data from the CSV file\n",
    "    df = pd.read_csv(file_path)\n",
    "    \n",
    "    # If no_reviews is specified, limit the number of reviews read\n",
    "    if no_reviews is not None:\n",
    "        df = df.iloc[:no_reviews]  # Get the first `no_reviews` entries\n",
    "    \n",
    "    return df"
   ]
  },
  {
   "cell_type": "code",
   "execution_count": 5,
   "id": "6098eba2-b473-4fef-adc0-a49222a15730",
   "metadata": {},
   "outputs": [],
   "source": [
    "# Function to Pre-Process the data\n",
    "\n",
    "def preprocess_data(df):\n",
    "\n",
    "    # Remove rows where 'review_body' is NaN\n",
    "    df.dropna(subset=['review_body'], inplace=True)\n",
    "    \n",
    "    stop_words = set(stopwords.words('english'))\n",
    "    \n",
    "    lemmatizer = WordNetLemmatizer()\n",
    "\n",
    "    def clean_text(text):\n",
    "        text = text.lower()  # Convert to lowercase\n",
    "        text = re.sub(r'http\\S+', '', text)  # Remove URLs\n",
    "        text = re.sub(r'@\\S+', '', text)  # Remove mentions\n",
    "        text = re.sub(r'#\\S+', '', text)  # Remove hashtags\n",
    "        text = re.sub(r'[^\\w\\s]', '', text)  # Remove punctuation\n",
    "        text = re.sub(r'\\d+', '', text)  # Remove numbers\n",
    "        text = emoji.demojize(text, delimiters=(\"\", \"\"))  # Convert emojis to words\n",
    "        \n",
    "        \n",
    "        # Uses the simple_process fucntion of Gensim library to split the text into tokens\n",
    "        tokens = simple_preprocess(text)\n",
    "\n",
    "        # Lemmatise the tokens, remove stopwords, and filter out short words with less than 3 characters.\n",
    "        # Lemmatise the tokens to get their root form (lemmas), removing inflectional endings only and \n",
    "        # returning the base or dictionary form of a word, which is known as the lemma. For instance, \n",
    "        # 'running' becomes 'run'. Also, remove stopwords, which are commonly used words that are unlikely \n",
    "        # to carry much meaning, such as 'and' or 'the'. Exclude words shorter than three characters to \n",
    "        # eliminate most conjunctions, prepositions, and other short words that typically don't contribute \n",
    "        # to sentiment analysis. This process reduces noise and dimensionality in the text data.\n",
    "        # This helps in focusing on more meaningful words.\n",
    "        \n",
    "        tokens = [lemmatizer.lemmatize(word) for word in tokens if word not in stop_words and len(word) > 2]\n",
    "        \n",
    "        # Return the cleaned tokens if the review is not empty, else None\n",
    "        return tokens if tokens else None\n",
    "            \n",
    "    # Apply preprocessing to each review\n",
    "    df['processed_review'] = df['review_body'].apply(clean_text)\n",
    "    \n",
    "    # Handle empty results\n",
    "    # Remove rows where the reviews ended up being empty after preprocessing\n",
    "    df = df.loc[~df['processed_review'].isna()].copy()\n",
    "    \n",
    "    # Convert ratings to binary: 1 if greater than 2, else 0\n",
    "    # Ratings of 3, 4, or 5 (above 2) are considered positive (1).\n",
    "    # Ratings of 1 or 2 (2 or below) are considered negative (0).\n",
    "    df['binary_stars'] = df['stars'].apply(lambda x: 1 if x > 2 else 0)\n",
    "\n",
    "    \n",
    "    reviews = df['processed_review'].tolist()\n",
    "    ratings = df['binary_stars'].tolist()\n",
    "    \n",
    "    return reviews, ratings"
   ]
  },
  {
   "cell_type": "code",
   "execution_count": 6,
   "id": "474d4ac3-0045-4796-857d-5ae043e54aec",
   "metadata": {},
   "outputs": [],
   "source": [
    "#Function for Distribution Analysis of reviews' length\n",
    "\n",
    "def analyze_review_lengths(reviews):\n",
    "    # Array to hold counts of review lengths up to 249 words\n",
    "    counts = np.zeros(250)\n",
    "    # To count reviews longer than 249 words\n",
    "    above = 0\n",
    "    total = 0\n",
    "\n",
    "    # Analyse lengths\n",
    "    for review in reviews:\n",
    "        len_review = len(review)\n",
    "        total += len_review\n",
    "        if len_review < 250:\n",
    "            counts[len_review] += 1\n",
    "        else:\n",
    "            above += 1\n",
    "\n",
    "    average_len = total / len(reviews) if reviews else 0\n",
    "    print(\"Average length of reviews =\", average_len)\n",
    "    print(\"Reviews longer than 249 words =\", above)\n",
    "\n",
    "    # Plotting the distribution\n",
    "    plt.figure(figsize=(10, 5))\n",
    "    plt.bar(range(250), counts, color='blue')\n",
    "    plt.xlabel(\"Number of words\")\n",
    "    plt.ylabel(\"Frequency\")\n",
    "    plt.title(\"Distribution of Review Lengths\")\n",
    "    plt.show()\n",
    "\n",
    "    return average_len "
   ]
  },
  {
   "cell_type": "code",
   "execution_count": 7,
   "id": "de976a63-ca05-48f4-9941-768e95dc7ed9",
   "metadata": {},
   "outputs": [],
   "source": [
    "# Function to split the data in training, testing and validating sets\n",
    "\n",
    "def split_data(reviews, ratings, prop_val, prop_test):\n",
    "    # First, split into training and a temporary set (test + validation)\n",
    "    x_train, x_temp, y_train, y_temp = train_test_split(\n",
    "        reviews, ratings, test_size=prop_val + prop_test, random_state=42)\n",
    "    \n",
    "    # Split the temporary set into validation and test sets\n",
    "    x_val, x_test, y_val, y_test = train_test_split(\n",
    "        x_temp, y_temp, test_size=prop_test / (prop_val + prop_test), random_state=42)\n",
    "    \n",
    "    return x_train, y_train, x_val, y_val, x_test, y_test"
   ]
  },
  {
   "cell_type": "code",
   "execution_count": 8,
   "id": "08a842f1-2244-4d61-b141-a0114a3ad81c",
   "metadata": {},
   "outputs": [
    {
     "name": "stdout",
     "output_type": "stream",
     "text": [
      "Total number of reviews read: 21949\n",
      "\n",
      "Sample reviews with ratings:\n",
      "Review 1: Rating: 1, Review: best matter great platform easy simple use one crypto offer actually call phone number get someone question like highly recommend customer year good thing say celsius network\n",
      "Review 2: Rating: 1, Review: looking best earn steady yield better place celsius network app easy use understand recent update well company led great ceo fully engaged celsius community mission celsius good well live much reward compound pay weekly\n",
      "Review 3: Rating: 0, Review: despise much transferring wallet difficult especially cannot swap coin long waiting period send someone verification within hour compared cryptocom find extremely difficult gain access fund never going use biggest blunder\n",
      "Review 4: Rating: 0, Review: worst customer service worst company deal dont waste time depositing coin get run around trying withdraw coin platform another wallet going month every time call everyone clueless also said another country charge withdraw aware dont waste time\n",
      "Review 5: Rating: 1, Review: celsius transparent responsive company ive seen crypto space never experienced issue using product consistently paid higher rate crypto yield platform first recommendation crypto newbie veteran alike try never want leave\n",
      "Review 6: Rating: 1, Review: best wallet manage store get reward crypto using app since celsius never miss weekly reward deposited wallet best place buy swap different crypto ass service zero fee try itleo\n",
      "Review 7: Rating: 0, Review: took loan cant pay principle back thought going liquidated fine take back collateral left reinvest told fund held indefinitely pay principle cant\n",
      "Review 8: Rating: 1, Review: celsius network one best crypto apps website ever used earn passive income ease look phone watch market btceth every min earn apy crypto know celsius best interest heart love celsius netowrkhodl celsius\n",
      "Review 9: Rating: 1, Review: celsius one underrated crypto related web site referral code great reward program better competitor community awesome founder trustworthy using nearly year zero problem\n",
      "Review 10: Rating: 0, Review: suspended account without reason didnt give opportunity explain least answer concern shut loose access coin ive waiting answer ticket month edit unlocked account almost moth laterestoy super decepcionado despues casi años como cliente nada suspenden cuenta pido explicaciones nada desastretengo ticket abierto hace más me responden edit desbloquearon cuent casi meses despues\n"
     ]
    }
   ],
   "source": [
    "# Data loading, preprocessing and splitting\n",
    "\n",
    "# Use the function to read the data\n",
    "df = read_data_from_csv(data_path)\n",
    "\n",
    "# Preprocess the data\n",
    "reviews, ratings = preprocess_data(df)\n",
    "\n",
    "print(f\"Total number of reviews read: {len(reviews)}\")\n",
    "\n",
    "# Display sample reviews and ratings\n",
    "print(\"\\nSample reviews with ratings:\")\n",
    "for i in range(min(10, len(reviews))):\n",
    "    print(f\"Review {i + 1}: Rating: {ratings[i]}, Review: {' '.join(reviews[i])}\")"
   ]
  },
  {
   "cell_type": "code",
   "execution_count": 9,
   "id": "6a2a47a1-fbb3-4b0f-a6d3-e326db1069e9",
   "metadata": {},
   "outputs": [
    {
     "name": "stdout",
     "output_type": "stream",
     "text": [
      "Average length of reviews = 20.092396008929793\n",
      "Reviews longer than 249 words = 34\n"
     ]
    },
    {
     "data": {
      "image/png": "[encoded data removed]",
      "text/plain": [
       "<Figure size 1000x500 with 1 Axes>"
      ]
     },
     "metadata": {},
     "output_type": "display_data"
    },
    {
     "name": "stdout",
     "output_type": "stream",
     "text": [
      "Average length of reviews based on current preprocessing: 20.092396008929793\n"
     ]
    }
   ],
   "source": [
    "# Analyse review lengths to decide on max_review_length\n",
    "\n",
    "average_len = analyze_review_lengths(reviews)\n",
    "print(f\"Average length of reviews based on current preprocessing: {average_len}\")"
   ]
  },
  {
   "cell_type": "code",
   "execution_count": 10,
   "id": "f1bfa84e-d2e8-404a-9590-68c80a2018dc",
   "metadata": {},
   "outputs": [
    {
     "name": "stdout",
     "output_type": "stream",
     "text": [
      "Chosen max review length: 100\n"
     ]
    }
   ],
   "source": [
    "# Set max_review_length to 100\n",
    "\n",
    "max_review_length = 100\n",
    "print(f\"Chosen max review length: {max_review_length}\")"
   ]
  },
  {
   "cell_type": "code",
   "execution_count": 11,
   "id": "786031c6-4484-4535-9c80-e845404ca957",
   "metadata": {},
   "outputs": [],
   "source": [
    "# Split the data into training, validation, and test sets\n",
    "\n",
    "x_train, y_train, x_val, y_val, x_test, y_test = split_data(reviews, ratings, prop_val, prop_test)"
   ]
  },
  {
   "cell_type": "code",
   "execution_count": 12,
   "id": "8895c572-766e-47ba-9a25-2f8e21f2deb8",
   "metadata": {},
   "outputs": [
    {
     "name": "stdout",
     "output_type": "stream",
     "text": [
      "Length of training set: 13169\n",
      "Length of validation set: 4390\n",
      "Length of testing set: 4390\n"
     ]
    }
   ],
   "source": [
    "# Tokenisation and Padding\n",
    "\n",
    "# Initialise the tokeniser with the size of the vocabulary (converting words into sequences of integers)\n",
    "tokenizer = Tokenizer(num_words=max_words)\n",
    "tokenizer.fit_on_texts(x_train)\n",
    "\n",
    "\n",
    "# Create sequences for each set (Convert texts to integer sequences)\n",
    "x_train_seq = tokenizer.texts_to_sequences(x_train)\n",
    "x_val_seq = tokenizer.texts_to_sequences(x_val)\n",
    "x_test_seq = tokenizer.texts_to_sequences(x_test)\n",
    "\n",
    "# Pad sequences to the same length\n",
    "x_train_pad = pad_sequences(x_train_seq, maxlen=max_review_length, padding='pre', truncating='post')\n",
    "x_val_pad = pad_sequences(x_val_seq, maxlen=max_review_length, padding='pre', truncating='post')\n",
    "x_test_pad = pad_sequences(x_test_seq, maxlen=max_review_length, padding='pre', truncating='post')\n",
    "\n",
    "# Convert padded sequences to NumPy arrays\n",
    "x_train_pad = np.array(x_train_pad)\n",
    "x_val_pad = np.array(x_val_pad)\n",
    "x_test_pad = np.array(x_test_pad)\n",
    "\n",
    "# Convert labels to NumPy arrays\n",
    "y_train = np.array(y_train)\n",
    "y_val = np.array(y_val)\n",
    "y_test = np.array(y_test)\n",
    "\n",
    "#Display length of training, validation, and testing sets\n",
    "print(f\"Length of training set: {len(x_train_pad)}\")\n",
    "print(f\"Length of validation set: {len(x_val_pad)}\")\n",
    "print(f\"Length of testing set: {len(x_test_pad)}\")\n"
   ]
  },
  {
   "cell_type": "code",
   "execution_count": 13,
   "id": "b1a48b97-ca06-4b5e-aa43-3df170b916c3",
   "metadata": {},
   "outputs": [
    {
     "name": "stdout",
     "output_type": "stream",
     "text": [
      "['received', 'preapproved', 'offer', 'loan', 'intent', 'look', 'refinancing', 'credit', 'card', 'debt', 'approximately', 'lower', 'interest', 'rate', 'declined', 'even', 'though', 'fico', 'score', 'adverse', 'action', 'notice', 'state', 'declined', 'mortgage', 'history', 'adverse', 'action', 'notice', 'immediately', 'given', 'decision', 'made', 'later', 'received', 'email', 'mention', 'mortgage', 'history', 'found', 'form', 'called', 'number', 'listed', 'asked', 'declined', 'fico', 'score', 'csr', 'stated', 'scoring', 'system', 'rely', 'fico', 'score', 'asked', 'adverse', 'action', 'notice', 'mentioned', 'mortgage', 'history', 'second', 'one', 'mention', 'complete', 'silence', 'believe', 'declining', 'person', 'mortgage', 'history', 'form', 'discrimination']\n",
      "[   0    0    0    0    0    0    0    0    0    0    0    0    0    0\n",
      "    0    0    0    0    0    0    0    0    0    0    0    0   93 1366\n",
      "  158   16 2595  257  612   29    7  252 2160  467   61   42  457   32\n",
      "  263 2433  303 3028  647  641  305  457  469  557 3028  647  641  285\n",
      "  324  414   87  180   93   38  589  469  557  238  590   75  121  941\n",
      "  138  457 2433  303 3072  695 4797  175 1868 2433  303  138 3028  647\n",
      "  641 1529  469  557  259   21  589  331 3073  316 1786  143  469  557\n",
      "  590 3406]\n"
     ]
    }
   ],
   "source": [
    "# Print a sample from the training data\n",
    "print(x_train[1000])\n",
    "\n",
    "# Each number corresponds to a word in the sample, where the numbers are indices that map to words in the vocabulary\n",
    "print(x_train_pad[1000])"
   ]
  },
  {
   "cell_type": "markdown",
   "id": "4a835786-4556-42fa-81b9-80510323e4d1",
   "metadata": {},
   "source": [
    "# MODEL TRAINING WITH FEDERATED LEARNING USING TENSORFLOW-FEDERATED"
   ]
  },
  {
   "cell_type": "code",
   "execution_count": 14,
   "id": "e90e6002-5b83-4f38-8192-bc35f16088f4",
   "metadata": {},
   "outputs": [],
   "source": [
    "# Function to split the training dataset into five simulated clients datasets\n",
    "\n",
    "def create_federated_data(x_train_pad, y_train, num_clients=5):\n",
    "    client_datasets = []\n",
    "    data_per_client = len(x_train_pad) // num_clients\n",
    "\n",
    "    for i in range(num_clients):\n",
    "        start_idx = i * data_per_client\n",
    "        end_idx = (i + 1) * data_per_client\n",
    "        \n",
    "        client_data = tf.data.Dataset.from_tensor_slices((\n",
    "            x_train_pad[start_idx:end_idx], \n",
    "            tf.cast(y_train[start_idx:end_idx], tf.float32)  # Cast labels to float32 as expected by tensorflow-federated\n",
    "        ))\n",
    "        client_data = client_data.batch(32) \n",
    "        client_datasets.append(client_data)\n",
    "\n",
    "        # Print the number of examples (samples) each client gets\n",
    "        num_samples = end_idx - start_idx\n",
    "        print(f\"Client {i + 1} gets {num_samples} samples of examples.\")\n",
    "\n",
    "    #returns five labelled datasets, each containing the input data (x_train_pad) and the corresponding labels (y_train).\n",
    "    return client_datasets"
   ]
  },
  {
   "cell_type": "code",
   "execution_count": 15,
   "id": "2399098b-6522-4775-9e77-73ea5971b7e8",
   "metadata": {},
   "outputs": [],
   "source": [
    "# Function that creates the model architecture of a TensorFlow-federated model.\n",
    "\n",
    "def model_fn():\n",
    "    keras_model = Sequential([\n",
    "        Embedding(input_dim=max_words, output_dim=embedding_size, input_length=max_review_length),\n",
    "        LSTM(units=128, return_sequences=True),\n",
    "        Dropout(0.2),\n",
    "        LSTM(units=64),\n",
    "        Dropout(0.2),\n",
    "        Dense(units=1, activation='sigmoid')  # Binary classification\n",
    "    ])\n",
    "\n",
    "    ###No need to compile the model as Tensorflow-Federated handles this\n",
    "\n",
    "    #Return model wrapped in Tensorflow-federated format\n",
    "    return tff.learning.from_keras_model(\n",
    "        keras_model,\n",
    "        input_spec=(tf.TensorSpec(shape=[None, max_review_length], dtype=tf.int32),\n",
    "                    tf.TensorSpec(shape=[None], dtype=tf.float32)),\n",
    "        loss=tf.keras.losses.BinaryCrossentropy(),\n",
    "        metrics=[tf.keras.metrics.BinaryAccuracy()]\n",
    "    )"
   ]
  },
  {
   "cell_type": "code",
   "execution_count": 16,
   "id": "7eaf2b21-24a0-4346-b751-17215d6e3e9c",
   "metadata": {},
   "outputs": [],
   "source": [
    "# Function that defines an equivalent Keras model to be given the weights of the TensorFlow-Federated model after training for general use\n",
    "\n",
    "def create_keras_model():\n",
    "        model = Sequential()\n",
    "        model.add(Embedding(input_dim=max_words, output_dim=embedding_size, input_length=max_review_length))\n",
    "        model.add(LSTM(128, return_sequences=True)) \n",
    "        model.add(Dropout(0.2))\n",
    "        model.add(LSTM(64))  \n",
    "        model.add(Dropout(0.2))\n",
    "        model.add(Dense(1, activation='sigmoid'))\n",
    "        return model"
   ]
  },
  {
   "cell_type": "code",
   "execution_count": 17,
   "id": "32752e28-5b91-4a56-ab08-ac72c5f5ab88",
   "metadata": {},
   "outputs": [],
   "source": [
    "# Class to define a custom Differential Privacy optimiser with gradient clipping and noise addition\n",
    "\n",
    "class DPOptimizer(tf.keras.optimizers.SGD):\n",
    "    \n",
    "    def __init__(self, learning_rate, noise_multiplier, l2_norm_clip):\n",
    "        super(DPOptimizer, self).__init__(learning_rate)\n",
    "        self.noise_multiplier = noise_multiplier\n",
    "        self.l2_norm_clip = l2_norm_clip\n",
    "\n",
    "    ## Clipping threshold for the gradients so that no single input disproportionately impacts the gradient descent process. There are performance/privacy trade-offs\n",
    "    def _clip_grads(self, grads):\n",
    "        clipped_grads = []\n",
    "        for g in grads:\n",
    "            g_dense = tf.convert_to_tensor(g)  # Converts sparse gradient to dense\n",
    "            clipped_g = tf.clip_by_norm(g_dense, self.l2_norm_clip)  # Clip gradients\n",
    "            clipped_grads.append(clipped_g)\n",
    "        return clipped_grads\n",
    "\n",
    "    # Controls the amount of noise added\n",
    "    def _add_noise(self, grads):\n",
    "        noisy_grads = []\n",
    "        for g in grads:\n",
    "            g_dense = tf.convert_to_tensor(g)  # Converts sparse gradient to dense\n",
    "            noise = tf.random.normal(shape=tf.shape(g_dense), stddev=self.noise_multiplier)\n",
    "            noisy_g = g_dense + noise  # Add Gaussian noise\n",
    "            noisy_grads.append(noisy_g)\n",
    "        return noisy_grads\n",
    "\n",
    "    def apply_gradients(self, grads_and_vars, name=None, experimental_aggregate_gradients=True):\n",
    "        grads, vars = zip(*grads_and_vars)\n",
    "        grads = self._clip_grads(grads)  # Clip gradients\n",
    "        grads = self._add_noise(grads)   # Add noise to the gradients\n",
    "        return super(DPOptimizer, self).apply_gradients(zip(grads, vars), name=name)\n"
   ]
  },
  {
   "cell_type": "code",
   "execution_count": 18,
   "id": "fcda9674-3698-4658-af27-8468ac977aae",
   "metadata": {},
   "outputs": [],
   "source": [
    "# Function to return the custom Differential Privacy Optimizer \n",
    "\n",
    "def dp_optimizer_fn(learning_rate, noise_multiplier, l2_norm_clip):\n",
    "    return DPOptimizer(\n",
    "        learning_rate=learning_rate,\n",
    "        noise_multiplier=noise_multiplier,\n",
    "        l2_norm_clip=l2_norm_clip\n",
    "    )"
   ]
  },
  {
   "cell_type": "code",
   "execution_count": 19,
   "id": "dc5faad0-d87c-4334-9682-c5e9bb02908d",
   "metadata": {},
   "outputs": [],
   "source": [
    "#Function to calculate epsilon \n",
    "\n",
    "#Epsilon is the amount of privacy that can be lost as the model trains. Smaller epsilon means high privacy. High epsilon means lower privacy and an increased risk of individual model inputs being inferrable from the model output.\n",
    "#Epsilon budget is the epsilon value that the particular scenario is willing to tolerate (based on security policies)\n",
    "\n",
    "#The function approximates the epsilon value based on the Gaussian mechanism for Differential Privacy.This gives an indication of privacy loss.\n",
    "\n",
    "def compute_epsilon(delta, noise_multiplier, num_training_steps, batch_size, dataset_size):\n",
    "    q = batch_size / dataset_size  # Sampling ratio. It is the fraction of the dataset used in each batch during training. It measures how much of the total dataset is exposed at each step of training.\n",
    "    steps = num_training_steps\n",
    "    sigma = noise_multiplier\n",
    "\n",
    "    # Formula for epsilon in terms of delta, noise_multiplier, steps, and q\n",
    "    epsilon = math.sqrt(2 * steps * math.log(1.25 / delta)) * (q / sigma)\n",
    "\n",
    "    return epsilon #The approximate epsilon value"
   ]
  },
  {
   "cell_type": "code",
   "execution_count": 20,
   "id": "ca9443cf-df77-4534-9b55-60f29eea8066",
   "metadata": {},
   "outputs": [
    {
     "name": "stdout",
     "output_type": "stream",
     "text": [
      "Client 1 gets 2633 samples of examples.\n",
      "Client 2 gets 2633 samples of examples.\n",
      "Client 3 gets 2633 samples of examples.\n",
      "Client 4 gets 2633 samples of examples.\n",
      "Client 5 gets 2633 samples of examples.\n"
     ]
    }
   ],
   "source": [
    "# Create federated data\n",
    "\n",
    "federated_train_data = create_federated_data(x_train_pad, y_train)"
   ]
  },
  {
   "cell_type": "code",
   "execution_count": 23,
   "id": "fe6b3788-2cbb-4fb7-b617-30717bab00c9",
   "metadata": {},
   "outputs": [
    {
     "name": "stderr",
     "output_type": "stream",
     "text": [
      "C:\\Users\\jlwon\\anaconda3\\envs\\tensorflow-federated_tf\\lib\\site-packages\\tensorflow\\python\\framework\\indexed_slices.py:431: UserWarning: Converting sparse IndexedSlices to a dense Tensor of unknown shape. This may consume a large amount of memory.\n",
      "  warnings.warn(\n"
     ]
    }
   ],
   "source": [
    "# Create an iterative process for federated learning, which defines how the Tensorflow-Federated model is trained on clients and how the server aggregates the updates into a Tensorflow-Federated global model\n",
    "\n",
    "nest_asyncio.apply() #Apply nest_asyncio library to allow the code to run nested event loops, which is necessary for using TensorFlow-Federated for parallel training of the five distributed TensorFlow-federated models\n",
    "\n",
    "# Differential privacy optimiser parameters \n",
    "l2_norm_clip = 1.0\n",
    "noise_multiplier = 1.1\n",
    "# learning rate of clients' model\n",
    "learning_rate = 0.001\n",
    "\n",
    "\n",
    "# Create an iterative process \n",
    "iterative_process = tff.learning.build_federated_averaging_process(\n",
    "    #Uses function that defines the Tensorflow_federated model architecture.\n",
    "    model_fn, \n",
    "    #The Differential Privacy optimizer used on the clients to update their models.\n",
    "    client_optimizer_fn=lambda: dp_optimizer_fn(learning_rate, noise_multiplier, l2_norm_clip),\n",
    "    #The optimizer used on the server to aggregate client updates and adjust the Tensorflow-Federated global model\n",
    "    server_optimizer_fn=lambda: tf.keras.optimizers.SGD(learning_rate=1.0)\n",
    ")\n",
    "# Initialises the state\n",
    "state = iterative_process.initialize()"
   ]
  },
  {
   "cell_type": "code",
   "execution_count": 24,
   "id": "dec239de-5a77-44a4-8dac-60f0ef105178",
   "metadata": {},
   "outputs": [
    {
     "name": "stdout",
     "output_type": "stream",
     "text": [
      "Round 1, Metrics=OrderedDict([('broadcast', ()), ('aggregation', OrderedDict([('value_sum_process', ()), ('weight_sum_process', ())])), ('train', OrderedDict([('binary_accuracy', 0.62725073), ('loss', 0.6833261)]))])\n",
      "Privacy budget after round 1: epsilon = 0.023931274201665055\n",
      "Round 2, Metrics=OrderedDict([('broadcast', ()), ('aggregation', OrderedDict([('value_sum_process', ()), ('weight_sum_process', ())])), ('train', OrderedDict([('binary_accuracy', 0.7486362), ('loss', 0.6533544)]))])\n",
      "Privacy budget after round 2: epsilon = 0.03384393254086408\n",
      "Round 3, Metrics=OrderedDict([('broadcast', ()), ('aggregation', OrderedDict([('value_sum_process', ()), ('weight_sum_process', ())])), ('train', OrderedDict([('binary_accuracy', 0.7486362), ('loss', 0.6292263)]))])\n",
      "Privacy budget after round 3: epsilon = 0.0414501828071462\n",
      "Round 4, Metrics=OrderedDict([('broadcast', ()), ('aggregation', OrderedDict([('value_sum_process', ()), ('weight_sum_process', ())])), ('train', OrderedDict([('binary_accuracy', 0.7486362), ('loss', 0.6092026)]))])\n",
      "Privacy budget after round 4: epsilon = 0.04786254840333011\n",
      "Round 5, Metrics=OrderedDict([('broadcast', ()), ('aggregation', OrderedDict([('value_sum_process', ()), ('weight_sum_process', ())])), ('train', OrderedDict([('binary_accuracy', 0.7486362), ('loss', 0.5926819)]))])\n",
      "Privacy budget after round 5: epsilon = 0.05351195590311008\n",
      "Round 6, Metrics=OrderedDict([('broadcast', ()), ('aggregation', OrderedDict([('value_sum_process', ()), ('weight_sum_process', ())])), ('train', OrderedDict([('binary_accuracy', 0.7486362), ('loss', 0.58164394)]))])\n",
      "Privacy budget after round 6: epsilon = 0.058619410688710245\n",
      "Round 7, Metrics=OrderedDict([('broadcast', ()), ('aggregation', OrderedDict([('value_sum_process', ()), ('weight_sum_process', ())])), ('train', OrderedDict([('binary_accuracy', 0.74863625), ('loss', 0.5723546)]))])\n",
      "Privacy budget after round 7: epsilon = 0.06331620009450153\n",
      "Round 8, Metrics=OrderedDict([('broadcast', ()), ('aggregation', OrderedDict([('value_sum_process', ()), ('weight_sum_process', ())])), ('train', OrderedDict([('binary_accuracy', 0.7486362), ('loss', 0.56423223)]))])\n",
      "Privacy budget after round 8: epsilon = 0.06768786508172817\n",
      "Round 9, Metrics=OrderedDict([('broadcast', ()), ('aggregation', OrderedDict([('value_sum_process', ()), ('weight_sum_process', ())])), ('train', OrderedDict([('binary_accuracy', 0.7486362), ('loss', 0.5583711)]))])\n",
      "Privacy budget after round 9: epsilon = 0.07179382260499516\n",
      "Round 10, Metrics=OrderedDict([('broadcast', ()), ('aggregation', OrderedDict([('value_sum_process', ()), ('weight_sum_process', ())])), ('train', OrderedDict([('binary_accuracy', 0.7486362), ('loss', 0.55481166)]))])\n",
      "Privacy budget after round 10: epsilon = 0.07567733378728926\n"
     ]
    }
   ],
   "source": [
    "# Train for several iterations of sending the Tensorflow-Federated model to each client. On each iteration, they train the model on their local data, and the models are collected and aggregated to update the Tensorflow-Federated global model.\n",
    "\n",
    "# Lists to store the loss, accuracy and epsilon for each round\n",
    "loss_history = []\n",
    "accuracy_history = []\n",
    "epsilon_history = []\n",
    "\n",
    "# Differential privacy parameters. These parameters impact how fast privacy is lost during training, hence affecting epsilon value.\n",
    "delta = 1e-5  # Delta represents the probability of a worst-case scenario where differential privacy guarantees might not hold. Lower delta implies stricter privacy guarantees, and higher delta means we accept a higher risk of privacy loss.\n",
    "num_training_steps = 0  # Initialise the total number of training steps. The more the model trains, the more potential for privacy loss\n",
    "batch_size = 32  # Batch size per client (same as used in the client datasets). Larger batch sizes relative to the dataset size may lead to more privacy leakage. \n",
    "dataset_size = len(x_train_pad)  # Total size of the training dataset. A smaller dataset size relative to the batch size increases the risk of privacy loss as more information is extracted from each sample.\n",
    "\n",
    "num_rounds = 10\n",
    "\n",
    "for round_num in range(1, num_rounds + 1):\n",
    "    state, metrics = iterative_process.next(state, federated_train_data)  # The 'next' method runs one round of federated learning. It returns the updated state (with updated Tensorflow-Federated global model weights) and the training metrics such as accuracy and loss).\n",
    "    print(f'Round {round_num}, Metrics={metrics}') # Print the metrics for each round, which indicates how the Tensorflow_Federated global model is improving.\n",
    "\n",
    "    # Store the loss and accuracy for the round\n",
    "    loss_history.append(metrics['train']['loss'])\n",
    "    accuracy_history.append(metrics['train']['binary_accuracy'])\n",
    "\n",
    "    ##Updating epsilon\n",
    "    \n",
    "    # Update the total number of training steps\n",
    "    num_training_steps += len(federated_train_data) \n",
    "\n",
    "    # Compute the privacy budget (epsilon) after this round\n",
    "    epsilon = compute_epsilon(delta, noise_multiplier, num_training_steps, batch_size, dataset_size)\n",
    "    # Store epsilon value\n",
    "    epsilon_history.append(epsilon)\n",
    "    # Print the epsilon value after the round \n",
    "    print(f\"Privacy budget after round {round_num}: epsilon = {epsilon}\")"
   ]
  },
  {
   "cell_type": "code",
   "execution_count": 28,
   "id": "9e192334-cee6-45a8-9bb4-2a5070a085fb",
   "metadata": {},
   "outputs": [
    {
     "data": {
      "image/png": "[encoded data removed]",
      "text/plain": [
       "<Figure size 1200x500 with 3 Axes>"
      ]
     },
     "metadata": {},
     "output_type": "display_data"
    }
   ],
   "source": [
    "# Plotting the loss, accuracy and epsilon over rounds\n",
    "\n",
    "plt.figure(figsize=(12, 5))\n",
    "\n",
    "# Plot loss\n",
    "plt.subplot(1, 3, 1)\n",
    "plt.plot(range(1, num_rounds + 1), loss_history, label='Loss')\n",
    "plt.title('Loss over Rounds')\n",
    "plt.xlabel('Round')\n",
    "plt.ylabel('Loss')\n",
    "plt.legend()\n",
    "\n",
    "# Plot accuracy\n",
    "plt.subplot(1, 3, 2)\n",
    "plt.plot(range(1, num_rounds + 1), accuracy_history, label='Accuracy', color='green')\n",
    "plt.title('Accuracy over Rounds')\n",
    "plt.xlabel('Round')\n",
    "plt.ylabel('Accuracy')\n",
    "plt.legend()\n",
    "\n",
    "\n",
    "# Plot epsilon\n",
    "plt.subplot(1, 3, 3)\n",
    "plt.plot(range(1, num_rounds + 1), epsilon_history, label='Epsilon (Privacy Budget)', color='red')\n",
    "plt.title('Privacy Budget (Epsilon) over Rounds')\n",
    "plt.xlabel('Round')\n",
    "plt.ylabel('Epsilon')\n",
    "plt.legend()\n",
    "\n",
    "plt.show()"
   ]
  },
  {
   "cell_type": "code",
   "execution_count": 26,
   "id": "45ac5843-a0b2-4e45-84a9-b144526e2e92",
   "metadata": {},
   "outputs": [],
   "source": [
    "#Instantiates an equivalent Keras model to be given the weights of the TensorFlow-Federated model after its training for general use\n",
    "\n",
    "# Retrieve the model weights from the state object (the Tensorflow-Federated component that holds the current state of the federated learning process)\n",
    "model_weights = state.model.trainable\n",
    "\n",
    "# Instantiates a Keras model\n",
    "global_model=create_keras_model()\n",
    "\n",
    "# Build the model by providing an example input (this step ensures weights are initialised)\n",
    "global_model.build(input_shape=(None, max_review_length))\n",
    "\n",
    "# Compile the Keras model\n",
    "global_model.compile(optimizer='adam', loss='binary_crossentropy', metrics=['accuracy'])\n",
    "\n",
    "# Set the weights of the Tensorflow-Federated global model in the Keras global model\n",
    "global_model.set_weights(model_weights)"
   ]
  },
  {
   "cell_type": "code",
   "execution_count": 27,
   "id": "4089628f-f9fe-4f1d-9576-8552aaeb1254",
   "metadata": {},
   "outputs": [
    {
     "name": "stdout",
     "output_type": "stream",
     "text": [
      "138/138 [==============================] - 6s 40ms/step - loss: 0.5455 - accuracy: 0.7569\n",
      "F1 Score: 0.8616621288733307\n",
      "Precision: 0.7569476082004556\n",
      "Recall: 1.0\n",
      "Accuracy: 0.7569476082004556\n",
      "Epsilon (Privacy Budget): 0.07567733378728926\n"
     ]
    }
   ],
   "source": [
    "# Keras Model Evaluation\n",
    "\n",
    "# Evaluate the Keras model on the test set\n",
    "global_model.evaluate(x_test_pad, y_test)\n",
    "\n",
    "# Make predictions using the test data (probabilities between 0 and 1)\n",
    "y_pred_prob = global_model.predict(x_test_pad)\n",
    "\n",
    "# Convert predicted probabilities to binary (0 or 1) predictions\n",
    "# Probabilities > 0.5 are assigned to class 1, while <= 0.5 are assigned to class 0\n",
    "y_pred = (y_pred_prob > 0.5).astype(int)\n",
    "\n",
    "# Calculate the F1 score, precision, recall, and accuracy\n",
    "f1 = f1_score(y_test, y_pred)\n",
    "precision = precision_score(y_test, y_pred)\n",
    "recall = recall_score(y_test, y_pred)\n",
    "accuracy = accuracy_score(y_test, y_pred)\n",
    "\n",
    "# Display the results\n",
    "print(f\"F1 Score: {f1}\")\n",
    "print(f\"Precision: {precision}\")\n",
    "print(f\"Recall: {recall}\")\n",
    "print(f\"Accuracy: {accuracy}\")\n",
    "print(f\"Epsilon (Privacy Budget): {epsilon}\")"
   ]
  },
  {
   "cell_type": "code",
   "execution_count": null,
   "id": "e57502b9-8e76-4bfa-96ce-aeb8ecfaf359",
   "metadata": {},
   "outputs": [],
   "source": []
  },
  {
   "cell_type": "code",
   "execution_count": null,
   "id": "4ebb7946-7d05-4118-9fac-6a789869ee62",
   "metadata": {},
   "outputs": [],
   "source": []
  }
 ],
 "metadata": {
  "kernelspec": {
   "display_name": "tensorflowgpu",
   "language": "python",
   "name": "python3"
  },
  "language_info": {
   "codemirror_mode": {
    "name": "ipython",
    "version": 3
   },
   "file_extension": ".py",
   "mimetype": "text/x-python",
   "name": "python",
   "nbconvert_exporter": "python",
   "pygments_lexer": "ipython3",
   "version": "3.10.13"
  }
 },
 "nbformat": 4,
 "nbformat_minor": 5
}
